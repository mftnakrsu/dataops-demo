{
  "nbformat": 4,
  "nbformat_minor": 0,
  "metadata": {
    "colab": {
      "provenance": [],
      "toc_visible": true,
      "authorship_tag": "ABX9TyPIKph5kazCavA29DDzFjV7",
      "include_colab_link": true
    },
    "kernelspec": {
      "name": "python3",
      "display_name": "Python 3"
    },
    "language_info": {
      "name": "python"
    }
  },
  "cells": [
    {
      "cell_type": "markdown",
      "metadata": {
        "id": "view-in-github",
        "colab_type": "text"
      },
      "source": [
        "<a href=\"https://colab.research.google.com/github/mftnakrsu/dataops-demo/blob/main/dataops.ipynb\" target=\"_parent\"><img src=\"https://colab.research.google.com/assets/colab-badge.svg\" alt=\"Open In Colab\"/></a>"
      ]
    },
    {
      "cell_type": "markdown",
      "source": [
        "# Ingest"
      ],
      "metadata": {
        "id": "_04Cs9ZglBS5"
      }
    },
    {
      "cell_type": "code",
      "source": [],
      "metadata": {
        "id": "5dVZKLu7lY25"
      },
      "execution_count": null,
      "outputs": []
    },
    {
      "cell_type": "markdown",
      "source": [
        "# EDA"
      ],
      "metadata": {
        "id": "ERhTTgOBlDN1"
      }
    },
    {
      "cell_type": "code",
      "source": [],
      "metadata": {
        "id": "dPhpnXCplaAh"
      },
      "execution_count": null,
      "outputs": []
    },
    {
      "cell_type": "markdown",
      "source": [
        "# Modeling"
      ],
      "metadata": {
        "id": "gQMnYzDClEJf"
      }
    },
    {
      "cell_type": "markdown",
      "source": [
        "## Classification Algorihm A"
      ],
      "metadata": {
        "id": "F8v7LJdelP5N"
      }
    },
    {
      "cell_type": "markdown",
      "source": [
        "## Classification Algorihm B"
      ],
      "metadata": {
        "id": "SiTBWi3qlSD1"
      }
    },
    {
      "cell_type": "markdown",
      "source": [
        "# Conclusion\n"
      ],
      "metadata": {
        "id": "6jQUx0UslF_h"
      }
    },
    {
      "cell_type": "code",
      "source": [],
      "metadata": {
        "id": "9QByt2MTlG84"
      },
      "execution_count": null,
      "outputs": []
    }
  ]
}